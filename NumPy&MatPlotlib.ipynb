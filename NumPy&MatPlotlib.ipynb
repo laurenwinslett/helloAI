{
  "nbformat": 4,
  "nbformat_minor": 0,
  "metadata": {
    "colab": {
      "provenance": [],
      "authorship_tag": "ABX9TyP4APbxabcqRLDicCJeQ9Qj",
      "include_colab_link": true
    },
    "kernelspec": {
      "name": "python3",
      "display_name": "Python 3"
    },
    "language_info": {
      "name": "python"
    }
  },
  "cells": [
    {
      "cell_type": "markdown",
      "metadata": {
        "id": "view-in-github",
        "colab_type": "text"
      },
      "source": [
        "<a href=\"https://colab.research.google.com/github/laurenwinslett/helloAI/blob/main/NumPy%26MatPlotlib.ipynb\" target=\"_parent\"><img src=\"https://colab.research.google.com/assets/colab-badge.svg\" alt=\"Open In Colab\"/></a>"
      ]
    },
    {
      "cell_type": "code",
      "source": [
        "import numpy as np\n",
        "#creating 1-d array\n",
        "#creating python list \n",
        "list_1 = [3,2,7]\n",
        "arr_1 = np.array(list_1, dtype=np.int16)\n",
        "print(\"output:\" ,arr_1)\n",
        "#or\n",
        "arr_1 = np.array([3,2,7])\n",
        "print(\"output:\" ,arr_1)\n",
        "#creating array of complex number\n",
        "arr_complex = np.array([1,2,3], dtype = complex)\n",
        "print(\"outut:\" , arr_complex)"
      ],
      "metadata": {
        "colab": {
          "base_uri": "https://localhost:8080/"
        },
        "id": "d6obCmaXCNyI",
        "outputId": "3ffa51d7-4883-46f6-d2f0-494c0403524d"
      },
      "execution_count": null,
      "outputs": [
        {
          "output_type": "stream",
          "name": "stdout",
          "text": [
            "output: [3 2 7]\n",
            "output: [3 2 7]\n",
            "outut: [1.+0.j 2.+0.j 3.+0.j]\n"
          ]
        }
      ]
    },
    {
      "cell_type": "code",
      "source": [
        "#creating two-dimensionsal array\n",
        "list_m = [[1, 2, 3], [4, 5, 6], [7, 8, 9]] #nested lists\n",
        "arr_m = np.array(list_m,dtype=np.int16)\n",
        "print(\"output:\" ,arr_m)"
      ],
      "metadata": {
        "colab": {
          "base_uri": "https://localhost:8080/"
        },
        "id": "AWCEbjVCDelj",
        "outputId": "55b525dc-015f-4045-ee77-9d53691a3f66"
      },
      "execution_count": null,
      "outputs": [
        {
          "output_type": "stream",
          "name": "stdout",
          "text": [
            "output: [[1 2 3]\n",
            " [4 5 6]\n",
            " [7 8 9]]\n"
          ]
        }
      ]
    },
    {
      "cell_type": "code",
      "source": [
        "#Creating an array of all zeros\n",
        "arr_0 = np.zeros((2,2))  \n",
        "print(\"output:\" ,arr_0)"
      ],
      "metadata": {
        "colab": {
          "base_uri": "https://localhost:8080/"
        },
        "id": "XCvKzVaCEVAV",
        "outputId": "811e4a6f-78f6-4a7b-bca3-93eb216c01ae"
      },
      "execution_count": null,
      "outputs": [
        {
          "output_type": "stream",
          "name": "stdout",
          "text": [
            "output: [[0. 0.]\n",
            " [0. 0.]]\n"
          ]
        }
      ]
    },
    {
      "cell_type": "code",
      "source": [
        "# Creating an array of all ones\n",
        "arr_1= np.ones((1,2))    \n",
        "print(\"output:\" ,arr_1)"
      ],
      "metadata": {
        "colab": {
          "base_uri": "https://localhost:8080/"
        },
        "id": "cNmj8N3aEaQR",
        "outputId": "fb46d08a-928c-4fed-f472-48cb3c70c04e"
      },
      "execution_count": null,
      "outputs": [
        {
          "output_type": "stream",
          "name": "stdout",
          "text": [
            "output: [[1. 1.]]\n"
          ]
        }
      ]
    },
    {
      "cell_type": "code",
      "source": [
        "# Creating a constant array\n",
        "arr_c = np.full((2,2), 7) \n",
        "print(\"output:\" ,arr_c)"
      ],
      "metadata": {
        "colab": {
          "base_uri": "https://localhost:8080/"
        },
        "id": "_m8KIsP6EeyZ",
        "outputId": "1787f8e6-7b76-493a-c22f-e4095cb0d2e0"
      },
      "execution_count": null,
      "outputs": [
        {
          "output_type": "stream",
          "name": "stdout",
          "text": [
            "output: [[7 7]\n",
            " [7 7]]\n"
          ]
        }
      ]
    },
    {
      "cell_type": "code",
      "source": [
        "arr_L = np.linspace(0, 5,7)\n",
        "print(\"output:\" ,arr_L)\n",
        "#dtype here is float64 "
      ],
      "metadata": {
        "colab": {
          "base_uri": "https://localhost:8080/"
        },
        "id": "DOeeWUh2ElqG",
        "outputId": "51541fe6-d4f6-4467-f24e-4ffa888db42a"
      },
      "execution_count": null,
      "outputs": [
        {
          "output_type": "stream",
          "name": "stdout",
          "text": [
            "output: [0.         0.83333333 1.66666667 2.5        3.33333333 4.16666667\n",
            " 5.        ]\n"
          ]
        }
      ]
    },
    {
      "cell_type": "code",
      "source": [
        "arr_a=np.arange(1, 10,1)\n",
        "print(\"output:\" ,arr_a)\n",
        "#here dtype('int32')\n"
      ],
      "metadata": {
        "colab": {
          "base_uri": "https://localhost:8080/"
        },
        "id": "Iwxk2kCWEuMW",
        "outputId": "6682f16c-b891-4251-daa0-63f8e86530ed"
      },
      "execution_count": null,
      "outputs": [
        {
          "output_type": "stream",
          "name": "stdout",
          "text": [
            "output: [1 2 3 4 5 6 7 8 9]\n"
          ]
        }
      ]
    },
    {
      "cell_type": "code",
      "source": [
        "arr_r = np.random.random((2,2))  \n",
        "print(\"output:\" ,arr_r)"
      ],
      "metadata": {
        "colab": {
          "base_uri": "https://localhost:8080/"
        },
        "id": "6uDMUL-YE1pg",
        "outputId": "3b8972f3-30d0-4274-bc94-e72a5dddd34f"
      },
      "execution_count": null,
      "outputs": [
        {
          "output_type": "stream",
          "name": "stdout",
          "text": [
            "output: [[0.84741836 0.38352354]\n",
            " [0.55525076 0.01909675]]\n"
          ]
        }
      ]
    },
    {
      "cell_type": "code",
      "source": [
        "arr_1= np.random.randint(10,100,7)  \n",
        "print(\"output:\" ,arr_1)"
      ],
      "metadata": {
        "colab": {
          "base_uri": "https://localhost:8080/"
        },
        "id": "UhUrQCfOE5cn",
        "outputId": "d439e3fb-56f2-457c-f46c-041162c3beb1"
      },
      "execution_count": null,
      "outputs": [
        {
          "output_type": "stream",
          "name": "stdout",
          "text": [
            "output: [44 55 30 31 38 36 12]\n"
          ]
        }
      ]
    },
    {
      "cell_type": "code",
      "source": [
        "arr_n= np.random.randn(10)  \n",
        "print(\"output:\" ,arr_n) "
      ],
      "metadata": {
        "colab": {
          "base_uri": "https://localhost:8080/"
        },
        "id": "OnXtGZ19FDnP",
        "outputId": "7ea1a688-a63e-4dab-90f6-1f025355ab65"
      },
      "execution_count": null,
      "outputs": [
        {
          "output_type": "stream",
          "name": "stdout",
          "text": [
            "output: [-1.01423505 -1.33577796  3.0100237   0.83008505 -0.39084713  1.3103829\n",
            " -0.42116239 -0.39742572  0.58445172 -1.84192506]\n"
          ]
        }
      ]
    },
    {
      "cell_type": "code",
      "source": [
        "arr_I = np.eye(2)         #Create a 2x2 identity matrix\n",
        "print(arr_I)\n"
      ],
      "metadata": {
        "colab": {
          "base_uri": "https://localhost:8080/"
        },
        "id": "jZsj6s9fFG7W",
        "outputId": "852ced33-2317-44d4-88f0-aed66d5fda86"
      },
      "execution_count": null,
      "outputs": [
        {
          "output_type": "stream",
          "name": "stdout",
          "text": [
            "[[1. 0.]\n",
            " [0. 1.]]\n"
          ]
        }
      ]
    },
    {
      "cell_type": "code",
      "source": [
        "#converting list to ndarray \n",
        "import numpy as np\n",
        "x = [1,2,3] \n",
        "a = np.asarray(x) \n",
        "print (a)\n",
        "\n",
        "# ndarray from tuple \n",
        "x_1 = (1,2,3) \n",
        "a_1 = np.asarray(x_1) \n",
        "print (a_1)\n",
        "\n",
        "# ndarray from list of tuples \n",
        "import numpy as np\n",
        "x_2 = [(1,2,3),(4,5)] \n",
        "a_2 = np.asarray(x_2) \n",
        "print (a_2)\n"
      ],
      "metadata": {
        "colab": {
          "base_uri": "https://localhost:8080/"
        },
        "id": "373brnFCFNHv",
        "outputId": "832585d0-1f18-45bc-fba3-91d7170d5965"
      },
      "execution_count": null,
      "outputs": [
        {
          "output_type": "stream",
          "name": "stdout",
          "text": [
            "[1 2 3]\n",
            "[1 2 3]\n",
            "[(1, 2, 3) (4, 5)]\n"
          ]
        },
        {
          "output_type": "stream",
          "name": "stderr",
          "text": [
            "<ipython-input-16-4ce0e3aa840c>:15: VisibleDeprecationWarning: Creating an ndarray from ragged nested sequences (which is a list-or-tuple of lists-or-tuples-or ndarrays with different lengths or shapes) is deprecated. If you meant to do this, you must specify 'dtype=object' when creating the ndarray.\n",
            "  a_2 = np.asarray(x_2)\n"
          ]
        }
      ]
    },
    {
      "cell_type": "code",
      "source": [
        "arr = np.array([[1,2,3],[4,5,6]]) \n",
        "print (arr.shape)\n",
        "\n",
        "#resizing the above array\n",
        "a = np.array([[1,2,3],[4,5,6]]) \n",
        "a.shape = (3,2) \n",
        "print (a)\n",
        "\n",
        "#or \n",
        "a = np.array([[1,2,3],[4,5,6]]) \n",
        "b = a.reshape(3,2) \n",
        "print (b)"
      ],
      "metadata": {
        "colab": {
          "base_uri": "https://localhost:8080/"
        },
        "id": "iP9SUTlCFc1g",
        "outputId": "5638c081-b181-4171-8c29-792d7a16e5af"
      },
      "execution_count": null,
      "outputs": [
        {
          "output_type": "stream",
          "name": "stdout",
          "text": [
            "(2, 3)\n",
            "[[1 2]\n",
            " [3 4]\n",
            " [5 6]]\n",
            "[[1 2]\n",
            " [3 4]\n",
            " [5 6]]\n"
          ]
        }
      ]
    },
    {
      "cell_type": "code",
      "source": [
        "x = np.array([[3,2,1],[4,6,1]]) \n",
        "print(x.size)"
      ],
      "metadata": {
        "colab": {
          "base_uri": "https://localhost:8080/"
        },
        "id": "dXoBdMp6Fora",
        "outputId": "5937b62e-10b0-4ac4-c21e-3008c5a024ba"
      },
      "execution_count": null,
      "outputs": [
        {
          "output_type": "stream",
          "name": "stdout",
          "text": [
            "6\n"
          ]
        }
      ]
    },
    {
      "cell_type": "code",
      "source": [
        "import numpy as np \n",
        "a = np.array([[1,2,3],[4,5,6]]) \n",
        "a.itemsize"
      ],
      "metadata": {
        "colab": {
          "base_uri": "https://localhost:8080/"
        },
        "id": "URyEggCLFsHZ",
        "outputId": "afd31bb6-b864-48d6-a3c2-4fefaa0bcda2"
      },
      "execution_count": null,
      "outputs": [
        {
          "output_type": "execute_result",
          "data": {
            "text/plain": [
              "8"
            ]
          },
          "metadata": {},
          "execution_count": 19
        }
      ]
    },
    {
      "cell_type": "code",
      "source": [
        "a = np.array([[1,2,3],[4,5,6]]) \n",
        "a.ndim"
      ],
      "metadata": {
        "colab": {
          "base_uri": "https://localhost:8080/"
        },
        "id": "hUL_H0dgFwE3",
        "outputId": "b3037262-6427-4efe-8d7e-5d8a60df4e98"
      },
      "execution_count": null,
      "outputs": [
        {
          "output_type": "execute_result",
          "data": {
            "text/plain": [
              "2"
            ]
          },
          "metadata": {},
          "execution_count": 20
        }
      ]
    },
    {
      "cell_type": "code",
      "source": [
        "arr = np.array([[1,2,3],[4,5,6]]) \n",
        "print (arr)\n",
        "type(arr)"
      ],
      "metadata": {
        "colab": {
          "base_uri": "https://localhost:8080/"
        },
        "id": "iiLYuzS9Fxks",
        "outputId": "cdd4bb89-8dca-457e-9abb-d896711366e4"
      },
      "execution_count": null,
      "outputs": [
        {
          "output_type": "stream",
          "name": "stdout",
          "text": [
            "[[1 2 3]\n",
            " [4 5 6]]\n"
          ]
        },
        {
          "output_type": "execute_result",
          "data": {
            "text/plain": [
              "numpy.ndarray"
            ]
          },
          "metadata": {},
          "execution_count": 22
        }
      ]
    },
    {
      "cell_type": "code",
      "source": [
        "print(arr.dtype)"
      ],
      "metadata": {
        "colab": {
          "base_uri": "https://localhost:8080/"
        },
        "id": "hbhLk3t1F5Pc",
        "outputId": "fec6088e-e443-4fbd-f1f0-f27bd3d143df"
      },
      "execution_count": null,
      "outputs": [
        {
          "output_type": "stream",
          "name": "stdout",
          "text": [
            "int64\n"
          ]
        }
      ]
    },
    {
      "cell_type": "code",
      "source": [
        "a = np.array([[1,2,3],[4,5,6]]) \n",
        "a.nbytes"
      ],
      "metadata": {
        "colab": {
          "base_uri": "https://localhost:8080/"
        },
        "id": "jIKtcPWsF8Q_",
        "outputId": "94a637d2-8e02-4134-e72c-9cde28bf7254"
      },
      "execution_count": null,
      "outputs": [
        {
          "output_type": "execute_result",
          "data": {
            "text/plain": [
              "48"
            ]
          },
          "metadata": {},
          "execution_count": 24
        }
      ]
    },
    {
      "cell_type": "code",
      "source": [
        "arr = np.arange(10)\n",
        "print(arr)\n",
        "\n",
        "#Example-1\n",
        "print(arr[7])\n",
        "#or \n",
        "print(arr[-3])\n",
        "\n",
        "#Example-2\n",
        "print(arr[0:5])\n",
        "#or \n",
        "print(arr[0:-4])\n",
        "\n",
        "#Example-3\n",
        "print(arr[-4:-1])\n"
      ],
      "metadata": {
        "colab": {
          "base_uri": "https://localhost:8080/"
        },
        "id": "ooYo2k2OF_AD",
        "outputId": "e138ac58-2b8a-4043-ebaa-48fdc46d6c47"
      },
      "execution_count": null,
      "outputs": [
        {
          "output_type": "stream",
          "name": "stdout",
          "text": [
            "[0 1 2 3 4 5 6 7 8 9]\n",
            "7\n",
            "7\n",
            "[0 1 2 3 4]\n",
            "[0 1 2 3 4 5]\n",
            "[6 7 8]\n"
          ]
        }
      ]
    },
    {
      "cell_type": "code",
      "source": [
        "arr = np.arange(10)\n",
        "#Slicing single element\n",
        "slice_arr = arr[2] \n",
        "print (slice_arr)\n",
        "\n",
        "#Slicing elements in between indexes\n",
        "print (arr[2:5])\n",
        "#or\n",
        "print (arr[-8:-5]) #using negative index\n",
        "\n",
        "#using slice(lower,upper,step) function\n",
        "s = slice(2,7,2) \n",
        "print (arr[s])\n",
        "\n",
        "#or\n",
        "slice_arr = arr[2:7:2] \n",
        "print (slice_arr)\n"
      ],
      "metadata": {
        "colab": {
          "base_uri": "https://localhost:8080/"
        },
        "id": "lddvTlaeGLAe",
        "outputId": "1bcd8614-d4d9-48e2-ae1a-fa82992ef4b2"
      },
      "execution_count": null,
      "outputs": [
        {
          "output_type": "stream",
          "name": "stdout",
          "text": [
            "2\n",
            "[2 3 4]\n",
            "[2 3 4]\n",
            "[2 4 6]\n",
            "[2 4 6]\n"
          ]
        }
      ]
    },
    {
      "cell_type": "code",
      "source": [
        "x= np.array([11,12,13,14,15])\n",
        "print(np.take(x, [0, 3,4]))"
      ],
      "metadata": {
        "colab": {
          "base_uri": "https://localhost:8080/"
        },
        "id": "Uhj0rF8nGWPp",
        "outputId": "a31f8876-64fe-4514-ddd5-973510c2ec79"
      },
      "execution_count": null,
      "outputs": [
        {
          "output_type": "stream",
          "name": "stdout",
          "text": [
            "[11 14 15]\n"
          ]
        }
      ]
    },
    {
      "cell_type": "code",
      "source": [
        "arr=np.arange(10)\n",
        "#Example-1\n",
        "print(arr[:5])\n",
        "\n",
        "#Example-2\n",
        "print(arr[5:])\n",
        "\n",
        "#Example-3\n",
        "print(arr[::2])"
      ],
      "metadata": {
        "colab": {
          "base_uri": "https://localhost:8080/"
        },
        "id": "XNqNOyQNGYwl",
        "outputId": "ef4bd948-3a72-4ba0-a736-1a6fe5e77fb3"
      },
      "execution_count": null,
      "outputs": [
        {
          "output_type": "stream",
          "name": "stdout",
          "text": [
            "[0 1 2 3 4]\n",
            "[5 6 7 8 9]\n",
            "[0 2 4 6 8]\n"
          ]
        }
      ]
    },
    {
      "cell_type": "code",
      "source": [
        "arr = np.array([[1,2,3],[3,4,5],[4,5,6]])\n",
        "print (arr)\n",
        "\n",
        "#Slicing first row\n",
        "print (arr[0:1])\n",
        "\n",
        "#slicing last 2 rows\n",
        "print (arr[1:])\n",
        "\n",
        "#slicing three rows and first column\n",
        "print (arr[0:3,0:1])\n",
        "\n",
        "#slicing 4 from above array\n",
        "print (arr[1:2,1:2])\n"
      ],
      "metadata": {
        "colab": {
          "base_uri": "https://localhost:8080/"
        },
        "id": "tkpBWE3cGc2n",
        "outputId": "6bd5ea50-4815-4084-cc53-7279ceb58257"
      },
      "execution_count": null,
      "outputs": [
        {
          "output_type": "stream",
          "name": "stdout",
          "text": [
            "[[1 2 3]\n",
            " [3 4 5]\n",
            " [4 5 6]]\n",
            "[[1 2 3]]\n",
            "[[3 4 5]\n",
            " [4 5 6]]\n",
            "[[1]\n",
            " [3]\n",
            " [4]]\n",
            "[[4]]\n"
          ]
        }
      ]
    },
    {
      "cell_type": "code",
      "source": [
        "arr_1 = np.array([1, 2, 3])\n",
        "arr_2 = np.array([2, 3, 4])\n",
        "arr_stack=np.stack((arr_1,arr_2),axis=0)\n",
        "print(arr_stack)\n",
        "print(arr_stack.shape)\n",
        "\n",
        "arr_stack=np.stack((arr_1,arr_2),axis=1)\n",
        "print(arr_stack)\n",
        "print(arr_stack.shape)"
      ],
      "metadata": {
        "colab": {
          "base_uri": "https://localhost:8080/"
        },
        "id": "cpDI7WNTGjIn",
        "outputId": "6a2a0a02-1939-4989-d703-6d0e5178901c"
      },
      "execution_count": null,
      "outputs": [
        {
          "output_type": "stream",
          "name": "stdout",
          "text": [
            "[[1 2 3]\n",
            " [2 3 4]]\n",
            "(2, 3)\n",
            "[[1 2]\n",
            " [2 3]\n",
            " [3 4]]\n",
            "(3, 2)\n"
          ]
        }
      ]
    },
    {
      "cell_type": "code",
      "source": [
        "# Generate random arrays\n",
        "arr_1 = np.random.randint(10, size=(2, 2))\n",
        "print(\" arr_1\\n\", arr_1)\n",
        "arr_2 = np.random.randint(10, size=(2, 2))\n",
        "print(\" arr_2\\n\", arr_2)\n",
        "\n",
        "# Stack arr_2 under arr_1\n",
        "a=np.vstack((arr_1, arr_2))\n",
        "print(a)\n",
        "\n",
        "# Stacking  horizontally\n",
        "b=np.hstack((arr_1, arr_2))\n",
        "print(b)"
      ],
      "metadata": {
        "colab": {
          "base_uri": "https://localhost:8080/"
        },
        "id": "wJWvR5eFGqpo",
        "outputId": "6774f334-e798-4fce-8006-f8ad67702cde"
      },
      "execution_count": null,
      "outputs": [
        {
          "output_type": "stream",
          "name": "stdout",
          "text": [
            " arr_1\n",
            " [[1 4]\n",
            " [6 6]]\n",
            " arr_2\n",
            " [[8 7]\n",
            " [4 4]]\n",
            "[[1 4]\n",
            " [6 6]\n",
            " [8 7]\n",
            " [4 4]]\n",
            "[[1 4 8 7]\n",
            " [6 6 4 4]]\n"
          ]
        }
      ]
    },
    {
      "cell_type": "code",
      "source": [
        "#stacking depth wise\n",
        "c=np.dstack((arr_1, arr_2))\n",
        "print(c)"
      ],
      "metadata": {
        "colab": {
          "base_uri": "https://localhost:8080/"
        },
        "id": "ZHKf8eaTGxto",
        "outputId": "10f94fbb-d239-43e8-f0a5-20a2d3545f96"
      },
      "execution_count": null,
      "outputs": [
        {
          "output_type": "stream",
          "name": "stdout",
          "text": [
            "[[[1 8]\n",
            "  [4 7]]\n",
            "\n",
            " [[6 4]\n",
            "  [6 4]]]\n"
          ]
        }
      ]
    },
    {
      "cell_type": "code",
      "source": [
        "# row_stack()\n",
        "a=np.row_stack((arr_1, arr_2))\n",
        "print(a)\n",
        "\n",
        "# column_stack()\n",
        "b=np.column_stack((arr_1, arr_2))\n",
        "print(b)"
      ],
      "metadata": {
        "colab": {
          "base_uri": "https://localhost:8080/"
        },
        "id": "LbmcNmkmG8AG",
        "outputId": "64072590-0948-4ebd-c093-8fa2dce75d4b"
      },
      "execution_count": null,
      "outputs": [
        {
          "output_type": "stream",
          "name": "stdout",
          "text": [
            "[[1 4]\n",
            " [6 6]\n",
            " [8 7]\n",
            " [4 4]]\n",
            "[[1 4 8 7]\n",
            " [6 6 4 4]]\n"
          ]
        }
      ]
    },
    {
      "cell_type": "code",
      "source": [
        "x = np.arange(9.0)\n",
        "np.split(x, 3)"
      ],
      "metadata": {
        "colab": {
          "base_uri": "https://localhost:8080/"
        },
        "id": "w_IADr8mHB2t",
        "outputId": "a9460d06-e0cb-4597-9da7-e8ece61a77e0"
      },
      "execution_count": null,
      "outputs": [
        {
          "output_type": "execute_result",
          "data": {
            "text/plain": [
              "[array([0., 1., 2.]), array([3., 4., 5.]), array([6., 7., 8.])]"
            ]
          },
          "metadata": {},
          "execution_count": 34
        }
      ]
    },
    {
      "cell_type": "code",
      "source": [
        "x = np.arange(8.0)\n",
        "np.array_split(x, 3)\n",
        "\n",
        "x = np.arange(7.0)\n",
        "np.array_split(x, 3)\n",
        "\n",
        "#all splitted arrays are not equal in size"
      ],
      "metadata": {
        "colab": {
          "base_uri": "https://localhost:8080/"
        },
        "id": "yuvKEhZnHGEZ",
        "outputId": "3c412357-15c8-4eea-ba70-fb660b52f249"
      },
      "execution_count": null,
      "outputs": [
        {
          "output_type": "execute_result",
          "data": {
            "text/plain": [
              "[array([0., 1., 2.]), array([3., 4.]), array([5., 6.])]"
            ]
          },
          "metadata": {},
          "execution_count": 35
        }
      ]
    },
    {
      "cell_type": "code",
      "source": [
        "arr_1 = np.arange(16.0).reshape(4, 4)\n",
        "\n",
        "\n",
        "np.hsplit(arr_1, 2)\n",
        "\n",
        "np.hsplit(arr_1, np.array([3, 6]))"
      ],
      "metadata": {
        "colab": {
          "base_uri": "https://localhost:8080/"
        },
        "id": "BYwFurHFHKjI",
        "outputId": "89e8ab3b-ca5f-4c23-9d6a-338613b058eb"
      },
      "execution_count": null,
      "outputs": [
        {
          "output_type": "execute_result",
          "data": {
            "text/plain": [
              "[array([[ 0.,  1.,  2.],\n",
              "        [ 4.,  5.,  6.],\n",
              "        [ 8.,  9., 10.],\n",
              "        [12., 13., 14.]]), array([[ 3.],\n",
              "        [ 7.],\n",
              "        [11.],\n",
              "        [15.]]), array([], shape=(4, 0), dtype=float64)]"
            ]
          },
          "metadata": {},
          "execution_count": 37
        }
      ]
    },
    {
      "cell_type": "code",
      "source": [
        "arr_3 = np.array([1, 2, 3, 4])\n",
        "arr_4 = np.array([2, 4, 6, 8])\n",
        "# Add values\n",
        "print(arr_3 + arr_4)\n",
        "#or\n",
        "np.add(arr_3 ,arr_4)\n",
        "\n",
        "# Subtract\n",
        "print(arr_3 - arr_4)\n",
        "#or\n",
        "np.subtract(arr_3 ,arr_4)\n",
        "\n",
        "# Multiply\n",
        "print(arr_3 * arr_4)\n",
        "#or\n",
        "np.multiply(arr_3 ,arr_4)\n",
        "\n",
        "# Divide\n",
        "print(arr_3 / arr_4)\n",
        "#or\n",
        "np.divide(arr_3,arr_4)"
      ],
      "metadata": {
        "colab": {
          "base_uri": "https://localhost:8080/"
        },
        "id": "QxJFAkcJHgwQ",
        "outputId": "4a3255d7-bc92-4d42-e09e-a1d0197cb7a7"
      },
      "execution_count": null,
      "outputs": [
        {
          "output_type": "stream",
          "name": "stdout",
          "text": [
            "[ 3  6  9 12]\n",
            "[-1 -2 -3 -4]\n",
            "[ 2  8 18 32]\n",
            "[0.5 0.5 0.5 0.5]\n"
          ]
        },
        {
          "output_type": "execute_result",
          "data": {
            "text/plain": [
              "array([0.5, 0.5, 0.5, 0.5])"
            ]
          },
          "metadata": {},
          "execution_count": 38
        }
      ]
    },
    {
      "cell_type": "code",
      "source": [
        "#Random 2 by 3 digit 2D array between 0 to 100\n",
        "arr_6 =np.random.randint(100, size=(2, 3))\n",
        "print(arr_6)\n",
        "\n",
        "# Sum of values in array\n",
        "a=arr_3.sum()\n",
        "print(a)\n",
        "\n",
        "# Sum columns\n",
        "c=arr_6.sum(axis=0)\n",
        "print(c)\n",
        "\n",
        "# Cumulative sum of rows\n",
        "b=arr_6.cumsum(axis=1)\n",
        "print(b)\n"
      ],
      "metadata": {
        "colab": {
          "base_uri": "https://localhost:8080/"
        },
        "id": "-vGpXnD8HxCQ",
        "outputId": "c8ce35f2-a629-4994-b724-4e0626d8e17c"
      },
      "execution_count": null,
      "outputs": [
        {
          "output_type": "stream",
          "name": "stdout",
          "text": [
            "[[33 73 73]\n",
            " [77 14 63]]\n",
            "10\n",
            "[110  87 136]\n",
            "[[ 33 106 179]\n",
            " [ 77  91 154]]\n"
          ]
        }
      ]
    },
    {
      "cell_type": "code",
      "source": [
        "arr=np.array([[62, 96, 50],\n",
        "       [87, 26, 42]])\n",
        "# Min of each row\n",
        "print(arr.min(axis=1))\n",
        "\n",
        "# Max of each column\n",
        "print(arr.max(axis=0))\n"
      ],
      "metadata": {
        "colab": {
          "base_uri": "https://localhost:8080/"
        },
        "id": "VeVwQeuOH2Yn",
        "outputId": "545cbe11-62e0-48f2-e2ec-f5c2e13c513f"
      },
      "execution_count": null,
      "outputs": [
        {
          "output_type": "stream",
          "name": "stdout",
          "text": [
            "[50 26]\n",
            "[87 96 50]\n"
          ]
        }
      ]
    },
    {
      "cell_type": "code",
      "source": [
        "print(np.absolute([-1, -2]))\n"
      ],
      "metadata": {
        "colab": {
          "base_uri": "https://localhost:8080/"
        },
        "id": "UNTxl9d7H6Q9",
        "outputId": "fef40492-804e-4109-ff58-a56a0fe2e326"
      },
      "execution_count": null,
      "outputs": [
        {
          "output_type": "stream",
          "name": "stdout",
          "text": [
            "[1 2]\n"
          ]
        }
      ]
    },
    {
      "cell_type": "code",
      "source": [
        "arr_5 = np.array([[1, 2], [3, 4]])\n",
        "arr_6 = np.array([[2, 4], [6, 9]])\n",
        "# Return values in 1st array to powers defined in 2nd array\n",
        "print(np.power(arr_5, arr_6))\n",
        "\n",
        "arr_3 = np.array([1, 2, 3, 4])\n",
        "#Square Root\n",
        "print(np.sqrt(arr_3))\n",
        "\n",
        "#Cube Root\n",
        "print(np.cbrt(arr_3))"
      ],
      "metadata": {
        "colab": {
          "base_uri": "https://localhost:8080/"
        },
        "id": "FsB0LkAjH8xN",
        "outputId": "289fe6d8-7e33-4d53-bfaa-d83224488b7c"
      },
      "execution_count": null,
      "outputs": [
        {
          "output_type": "stream",
          "name": "stdout",
          "text": [
            "[[     1     16]\n",
            " [   729 262144]]\n",
            "[1.         1.41421356 1.73205081 2.        ]\n",
            "[1.         1.25992105 1.44224957 1.58740105]\n"
          ]
        }
      ]
    },
    {
      "cell_type": "code",
      "source": [
        "arr_3 = np.array([1, 2, 3, 4])\n",
        "#Exponential of all elements in array\n",
        "print(np.exp(arr_3))\n"
      ],
      "metadata": {
        "colab": {
          "base_uri": "https://localhost:8080/"
        },
        "id": "Fe97iKTQIEXs",
        "outputId": "4980d76d-7381-40a1-e964-5f1dd10c235b"
      },
      "execution_count": null,
      "outputs": [
        {
          "output_type": "stream",
          "name": "stdout",
          "text": [
            "[ 2.71828183  7.3890561  20.08553692 54.59815003]\n"
          ]
        }
      ]
    },
    {
      "cell_type": "code",
      "source": [
        "print(np.log(arr_3))\n",
        "\n",
        "print(np.log2(arr_3))\n",
        "\n",
        "print(np.log10(arr_3))\n"
      ],
      "metadata": {
        "colab": {
          "base_uri": "https://localhost:8080/"
        },
        "id": "n5ghMZW5IHCR",
        "outputId": "b8939e4d-e0d0-43a8-ef00-fa4d57fa17c3"
      },
      "execution_count": null,
      "outputs": [
        {
          "output_type": "stream",
          "name": "stdout",
          "text": [
            "[0.         0.69314718 1.09861229 1.38629436]\n",
            "[0.        1.        1.5849625 2.       ]\n",
            "[0.         0.30103    0.47712125 0.60205999]\n"
          ]
        }
      ]
    },
    {
      "cell_type": "code",
      "source": [
        "print(np.gcd.reduce([9, 12, 15]))\n"
      ],
      "metadata": {
        "colab": {
          "base_uri": "https://localhost:8080/"
        },
        "id": "DswU1sj6ILfL",
        "outputId": "103cbc5b-d5cc-4741-e04b-1096b0e87e1e"
      },
      "execution_count": null,
      "outputs": [
        {
          "output_type": "stream",
          "name": "stdout",
          "text": [
            "3\n"
          ]
        }
      ]
    },
    {
      "cell_type": "code",
      "source": [
        "print(np.lcm.reduce([9, 12, 15]))\n"
      ],
      "metadata": {
        "colab": {
          "base_uri": "https://localhost:8080/"
        },
        "id": "PjTwxR2nIOer",
        "outputId": "5edeb0f5-ab35-48f5-d209-61c16b2a8a36"
      },
      "execution_count": null,
      "outputs": [
        {
          "output_type": "stream",
          "name": "stdout",
          "text": [
            "180\n"
          ]
        }
      ]
    },
    {
      "cell_type": "code",
      "source": [
        "# Round down\n",
        "print(np.floor([1.2, 2.5]))\n",
        "\n",
        "# Round up\n",
        "print(np.ceil([1.2, 2.5]))"
      ],
      "metadata": {
        "colab": {
          "base_uri": "https://localhost:8080/"
        },
        "id": "3pe_oTteIQVC",
        "outputId": "334bdadc-4772-4a7a-9598-a989a0ea17ca"
      },
      "execution_count": null,
      "outputs": [
        {
          "output_type": "stream",
          "name": "stdout",
          "text": [
            "[1. 2.]\n",
            "[2. 3.]\n"
          ]
        }
      ]
    },
    {
      "cell_type": "code",
      "source": [
        "import matplotlib.pyplot as plt\n",
        "# Generate array of 200 values between -pi & pi\n",
        "t_arr = np.linspace(-2*np.pi, 2*np.pi, 200)\n",
        "fig = plt.figure()\n",
        "ax = plt.axes()\n",
        "ax.grid(color='black', linestyle='-', linewidth=2,alpha=0.1)\n",
        "# Plotting Sin(X)\n",
        "plt.plot(t_arr, np.sin(t_arr),color='black') # SIN\n",
        "plt.title(\"sin(x)\")\n",
        "# Display plot\n",
        "plt.show()\n"
      ],
      "metadata": {
        "colab": {
          "base_uri": "https://localhost:8080/",
          "height": 281
        },
        "id": "drHjo2DiIUFF",
        "outputId": "3b32e9ea-e411-4451-fc25-18f07c9a53af"
      },
      "execution_count": null,
      "outputs": [
        {
          "output_type": "display_data",
          "data": {
            "text/plain": [
              "<Figure size 432x288 with 1 Axes>"
            ],
            "image/png": "[encoded data removed]"
          },
          "metadata": {
            "needs_background": "light"
          }
        }
      ]
    },
    {
      "cell_type": "code",
      "source": [
        "#plotting cos(x)\n",
        "plt.plot(t_arr, np.cos(t_arr),color='darkorange') # COS\n",
        "plt.title(\"cos(x)\")\n"
      ],
      "metadata": {
        "colab": {
          "base_uri": "https://localhost:8080/",
          "height": 299
        },
        "id": "XUIpCUD7IZe1",
        "outputId": "52459a19-ef8b-4238-e527-e831761a8ccc"
      },
      "execution_count": null,
      "outputs": [
        {
          "output_type": "execute_result",
          "data": {
            "text/plain": [
              "Text(0.5, 1.0, 'cos(x)')"
            ]
          },
          "metadata": {},
          "execution_count": 49
        },
        {
          "output_type": "display_data",
          "data": {
            "text/plain": [
              "<Figure size 432x288 with 1 Axes>"
            ],
            "image/png": "[encoded data removed]"
          },
          "metadata": {
            "needs_background": "light"
          }
        }
      ]
    },
    {
      "cell_type": "code",
      "source": [
        "#plotting tan(x)\n",
        "plt.plot(t_arr, np.tan(t_arr),color='skyblue') # TAN\n",
        "plt.title(\"tan(x)\")\n"
      ],
      "metadata": {
        "colab": {
          "base_uri": "https://localhost:8080/",
          "height": 299
        },
        "id": "s8J3dSSMIcH1",
        "outputId": "5ec729a9-fd1d-40ff-a34f-6445459723f6"
      },
      "execution_count": null,
      "outputs": [
        {
          "output_type": "execute_result",
          "data": {
            "text/plain": [
              "Text(0.5, 1.0, 'tan(x)')"
            ]
          },
          "metadata": {},
          "execution_count": 50
        },
        {
          "output_type": "display_data",
          "data": {
            "text/plain": [
              "<Figure size 432x288 with 1 Axes>"
            ],
            "image/png": "[encoded data removed]"
          },
          "metadata": {
            "needs_background": "light"
          }
        }
      ]
    },
    {
      "cell_type": "code",
      "source": [
        "plt.plot(t_arr, np.sin(t_arr),color='black',label='sin(x)') # SIN\n",
        "plt.plot(t_arr, np.cos(t_arr),color='darkorange',label='cos(x)') # COS\n",
        "plt.plot(t_arr, np.tan(t_arr),color='skyblue',label='tan(x)') # TAN\n",
        "plt.legend(loc='best')\n",
        "plt.show()\n"
      ],
      "metadata": {
        "colab": {
          "base_uri": "https://localhost:8080/",
          "height": 265
        },
        "id": "-JsQj3BUIezv",
        "outputId": "88974010-eac3-44f9-b60d-ec2c9babcfdc"
      },
      "execution_count": null,
      "outputs": [
        {
          "output_type": "display_data",
          "data": {
            "text/plain": [
              "<Figure size 432x288 with 1 Axes>"
            ],
            "image/png": "[encoded data removed]"
          },
          "metadata": {
            "needs_background": "light"
          }
        }
      ]
    },
    {
      "cell_type": "code",
      "source": [
        "# Provides inverse \n",
        "print(np.arcsin(1))\n",
        "print(np.arccos(1))\n",
        "print(np.arctan(0))\n"
      ],
      "metadata": {
        "colab": {
          "base_uri": "https://localhost:8080/"
        },
        "id": "ING7doGEIiQd",
        "outputId": "f8a2ac4e-b0b8-4c09-9777-da875aa27fc9"
      },
      "execution_count": null,
      "outputs": [
        {
          "output_type": "stream",
          "name": "stdout",
          "text": [
            "1.5707963267948966\n",
            "0.0\n",
            "0.0\n"
          ]
        }
      ]
    },
    {
      "cell_type": "code",
      "source": [
        "# Radians to degrees\n",
        "print(np.rad2deg(np.pi))\n",
        "\n",
        "# Degrees to radians\n",
        "print(np.deg2rad(180))\n"
      ],
      "metadata": {
        "colab": {
          "base_uri": "https://localhost:8080/"
        },
        "id": "KvSWjbFJIkZb",
        "outputId": "3798285b-8646-419f-a1b9-d3c1d14e505d"
      },
      "execution_count": null,
      "outputs": [
        {
          "output_type": "stream",
          "name": "stdout",
          "text": [
            "180.0\n",
            "3.141592653589793\n"
          ]
        }
      ]
    },
    {
      "cell_type": "code",
      "source": [
        "arr_1 = np.arange(1, 6)\n",
        "print(arr_1)\n",
        "\n",
        "#mean\n",
        "print(np.mean(arr_1))\n",
        "\n",
        "#median\n",
        "print(np.median(arr_1))\n",
        "\n",
        "#average\n",
        "print(np.average(arr_1))\n",
        "\n",
        "# Standard Deviation\n",
        "print(np.std([4, 6, 3, 5, 2])) \n",
        "\n",
        "#variance\n",
        "print(np.var([4, 6, 3, 5, 2]))"
      ],
      "metadata": {
        "colab": {
          "base_uri": "https://localhost:8080/"
        },
        "id": "zQ3GqEHNInMq",
        "outputId": "a1652bb1-f76b-41fc-ada4-84fe5e92cae7"
      },
      "execution_count": null,
      "outputs": [
        {
          "output_type": "stream",
          "name": "stdout",
          "text": [
            "[1 2 3 4 5]\n",
            "3.0\n",
            "3.0\n",
            "3.0\n",
            "1.4142135623730951\n",
            "2.0\n"
          ]
        }
      ]
    },
    {
      "cell_type": "code",
      "source": [
        "import numpy as np\n",
        "import matplotlib.pyplot as plt\n",
        "from mpl_toolkits.mplot3d import Axes3D\n",
        "v3=[ 4, 6 , 7 ]\n",
        "v2= [ 4 ,7 ,9 ]\n",
        "v3t = np.transpose(v3)\n",
        "print(v3t)"
      ],
      "metadata": {
        "colab": {
          "base_uri": "https://localhost:8080/"
        },
        "id": "VMpySlBRIvBC",
        "outputId": "8063c48c-f6db-4e0c-d7e7-3d22a78f4e4e"
      },
      "execution_count": null,
      "outputs": [
        {
          "output_type": "stream",
          "name": "stdout",
          "text": [
            "[4 6 7]\n"
          ]
        }
      ]
    },
    {
      "cell_type": "code",
      "source": [
        "#taking 2 vectors of same dimention\n",
        "v1 = np.array([ 2 ,6 ])\n",
        "v2 = np.array([ 5 ,7 ])\n",
        "v3 = v1+v2 #Addition\n",
        "print(v3)\n",
        "\n",
        "v4 = v2-v1 #Subtraction\n",
        "print(v4)\n"
      ],
      "metadata": {
        "colab": {
          "base_uri": "https://localhost:8080/"
        },
        "id": "cDXacBPHIx2N",
        "outputId": "ff23ca7a-e558-4dc1-c772-bad0d536f5ae"
      },
      "execution_count": null,
      "outputs": [
        {
          "output_type": "stream",
          "name": "stdout",
          "text": [
            "[ 7 13]\n",
            "[3 1]\n"
          ]
        }
      ]
    },
    {
      "cell_type": "code",
      "source": [
        "# VECTOR SCALAR PRODUCT\n",
        "v1 = np.array([ 9 ,2 ]) \n",
        "c= 0.7\n",
        "v2= c*v1\n",
        "print(v2)\n",
        "\n",
        "# dot product \n",
        "v1 = np.array([ 4 ,3 ,9 ])\n",
        "v2 = np.array([ 1 ,2 ,3 ])\n",
        "#method 1\n",
        "D_P1 = sum( np.multiply(v1,v2)  )\n",
        "\n",
        "#method 2\n",
        "D_P2 = np.dot( v1,v2 )\n",
        "print(D_P2)\n",
        "\n",
        "#method 3\n",
        "D_P3= np.matmul( v1,v2 )\n",
        "print(D_P3)"
      ],
      "metadata": {
        "colab": {
          "base_uri": "https://localhost:8080/"
        },
        "id": "n5RuXpNnI038",
        "outputId": "1105f638-05e4-4686-da87-0d3d284cabe4"
      },
      "execution_count": null,
      "outputs": [
        {
          "output_type": "stream",
          "name": "stdout",
          "text": [
            "[6.3 1.4]\n",
            "37\n",
            "37\n"
          ]
        }
      ]
    },
    {
      "cell_type": "code",
      "source": [
        "# create vectors\n",
        "w1 = [ 1, 3, 5 ]\n",
        "w2 = [ 3, 4, 2 ]\n",
        "w3 = np.multiply(w1,w2)\n",
        "print(w3)\n"
      ],
      "metadata": {
        "colab": {
          "base_uri": "https://localhost:8080/"
        },
        "id": "1PWfKoJjI8Uj",
        "outputId": "46aa9c34-c1a2-4148-b610-13b550261166"
      },
      "execution_count": null,
      "outputs": [
        {
          "output_type": "stream",
          "name": "stdout",
          "text": [
            "[ 3 12 10]\n"
          ]
        }
      ]
    },
    {
      "cell_type": "code",
      "source": [
        "v1 = np.array([3,9,9])\n",
        "v2 = np.array([2,3,4])\n",
        "v3 = np.cross (v1,v2)\n",
        "print (v3)\n"
      ],
      "metadata": {
        "colab": {
          "base_uri": "https://localhost:8080/"
        },
        "id": "hK5UoSUVI-rn",
        "outputId": "40e04f08-1442-411e-dea0-f9b4116a835d"
      },
      "execution_count": null,
      "outputs": [
        {
          "output_type": "stream",
          "name": "stdout",
          "text": [
            "[ 9  6 -9]\n"
          ]
        }
      ]
    },
    {
      "cell_type": "code",
      "source": [
        "#  vector \n",
        "v1 = np.array([ 3,4,6 ])\n",
        "# example method 1\n",
        "vl = np.sqrt( sum( np.multiply(v1,v1)) )\n",
        "#or\n",
        "# method 2: take the norm\n",
        "vl = np.linalg.norm(v1)\n",
        "print(vl)\n"
      ],
      "metadata": {
        "colab": {
          "base_uri": "https://localhost:8080/"
        },
        "id": "FgqGQNBiJBgY",
        "outputId": "84ad5037-d832-4ac6-8de3-ba569c430ca2"
      },
      "execution_count": null,
      "outputs": [
        {
          "output_type": "stream",
          "name": "stdout",
          "text": [
            "7.810249675906654\n"
          ]
        }
      ]
    }
  ]
}